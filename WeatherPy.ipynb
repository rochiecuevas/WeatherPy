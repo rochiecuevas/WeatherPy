{
 "cells": [
  {
   "cell_type": "markdown",
   "metadata": {},
   "source": [
    "# What is the relationship between geolocation and weather metrics?\n",
    "## Introduction\n",
    "[Weather](https://www.merriam-webster.com/dictionary/weather) is the condition of the atmosphere at a given time for a given location. Differences in weather metrics are attributed to the angle of the [Earth's tilt](https://sciencing.com/tilt-earth-affect-weather-8591690.html), which causes different parts of the Earth to be exposed to the Sun differently. In this study, association between geo-location of cities and four weather metrics were investigated: temperature, humidity, cloudiness, and wind speed. "
   ]
  },
  {
   "cell_type": "markdown",
   "metadata": {},
   "source": [
    "## Data analyses\n",
    "Several Python modules are used in running this script. \n",
    "\n",
    "* [Citipy](https://pypi.org/project/citipy/) finds nearest cities based on geographical coordinates. \n",
    "\n",
    "* [JSON](https://docs.python.org/2/library/json.html) handles data coming from the OpenWeatherData API. \n",
    "\n",
    "* [Requests](http://docs.python-requests.org/en/master/) send requests to the OpenWeatherMap API. \n",
    "\n",
    "* [Pprint](https://docs.python.org/3/library/pprint.html) allows JSON data to be presented in a more human-readable fashion. \n",
    "\n",
    "* Random numbers are generated using [NumPy](http://www.numpy.org/). \n",
    "\n",
    "* Dataframes are generated using [Pandas](https://pandas.pydata.org/). \n",
    "\n",
    "* [Matplotlib](https://matplotlib.org/) creates scatterplots from the data extracted from JSON files. "
   ]
  },
  {
   "cell_type": "code",
   "execution_count": 1,
   "metadata": {},
   "outputs": [],
   "source": [
    "# Dependencies\n",
    "import os\n",
    "import pandas as pd\n",
    "from citipy import citipy # get city and country designations based on latitude and longitude\n",
    "import numpy as np\n",
    "from pprint import pprint\n",
    "from config import api_key\n",
    "from config import gkey\n",
    "import matplotlib.pyplot as plt\n",
    "import json\n",
    "import requests\n",
    "import datetime as dt # to put a datestamp on the outputs"
   ]
  },
  {
   "cell_type": "markdown",
   "metadata": {},
   "source": [
    "Weather changes on a day-to-day basis. Hence, traceability of outputs is enhanced by adding a date suffix to the files names."
   ]
  },
  {
   "cell_type": "code",
   "execution_count": 2,
   "metadata": {},
   "outputs": [],
   "source": [
    "# Get the date today for the file date-stamp\n",
    "today = dt.datetime.today().strftime('%Y%m%d')"
   ]
  },
  {
   "cell_type": "markdown",
   "metadata": {},
   "source": [
    "### Creating a list of cities\n",
    "To ensure that the selection of cities is random, 2000 random numbers between -90 and 90 (for latitude) and between -180 and 180 (for longitude) are generated. \n",
    "\n",
    "__Notes__: [Latitude](https://www.nasa.gov/audience/forstudents/k-4/dictionary/Latitude.html) is a geographic location metric expressing a point's distance north (positive) or south (negative) of the Equator while [longitude](https://www.nasa.gov/audience/forstudents/k-4/dictionary/Longitude.html) indicates the point's distance east or west from the [Prime Meridian](https://gisgeography.com/prime-greenwich-meridian/) in England. [Coordinates](https://www.britannica.com/science/latitude) are pairs of latitudes and longitudes that point to different locations on Earth. "
   ]
  },
  {
   "cell_type": "code",
   "execution_count": 3,
   "metadata": {
    "scrolled": false
   },
   "outputs": [],
   "source": [
    "# Create a random list of latitudes and longitudes\n",
    "# np.random.uniform makes sure that all the numbers in the range get equal chance of getting picked\n",
    "\n",
    "latitudes = np.random.uniform(-90, 90, size = 2000) # 500 random numbers from -90 to 90 deg latitude\n",
    "longitudes = np.random.uniform(-180, 180, size = 2000) # 500 random numbers from -180 to 180 deg longitude\n",
    "\n",
    "coordinates = list(zip(latitudes, longitudes))"
   ]
  },
  {
   "cell_type": "markdown",
   "metadata": {},
   "source": [
    "[Oceans](https://www.oceanicinstitute.org/aboutoceans/aquafacts.html) cover 71% of the Earth's surface, which indicates that there is a high chance that any randomly generated coordinate points to water, rather than to a city. Hence, to get at least __500__ cities in the survey, it is important to get the nearest cities to the coordinates. Country codes are included to reduce ambiguity (i.e., some cities have the same name but are found in different countries)."
   ]
  },
  {
   "cell_type": "code",
   "execution_count": 4,
   "metadata": {},
   "outputs": [],
   "source": [
    "# Nearby cities per latitude-longitude pair\n",
    "cities = []\n",
    "\n",
    "for coord in coordinates:\n",
    "    lat, lon = coord\n",
    "    cities.append(citipy.nearest_city(lat, lon))"
   ]
  },
  {
   "cell_type": "markdown",
   "metadata": {},
   "source": [
    "Several coordinates generated can point to the same city, leading to duplicates. The list of nearby cities are, therefore, further filtered for duplicates."
   ]
  },
  {
   "cell_type": "code",
   "execution_count": 5,
   "metadata": {},
   "outputs": [
    {
     "data": {
      "text/html": [
       "<div>\n",
       "<style scoped>\n",
       "    .dataframe tbody tr th:only-of-type {\n",
       "        vertical-align: middle;\n",
       "    }\n",
       "\n",
       "    .dataframe tbody tr th {\n",
       "        vertical-align: top;\n",
       "    }\n",
       "\n",
       "    .dataframe thead th {\n",
       "        text-align: right;\n",
       "    }\n",
       "</style>\n",
       "<table border=\"1\" class=\"dataframe\">\n",
       "  <thead>\n",
       "    <tr style=\"text-align: right;\">\n",
       "      <th></th>\n",
       "      <th>latitude</th>\n",
       "      <th>longitude</th>\n",
       "      <th>city</th>\n",
       "      <th>country</th>\n",
       "    </tr>\n",
       "  </thead>\n",
       "  <tbody>\n",
       "    <tr>\n",
       "      <th>0</th>\n",
       "      <td>22.025584</td>\n",
       "      <td>-84.598760</td>\n",
       "      <td>mantua</td>\n",
       "      <td>cu</td>\n",
       "    </tr>\n",
       "    <tr>\n",
       "      <th>1</th>\n",
       "      <td>77.675606</td>\n",
       "      <td>111.078651</td>\n",
       "      <td>saskylakh</td>\n",
       "      <td>ru</td>\n",
       "    </tr>\n",
       "    <tr>\n",
       "      <th>2</th>\n",
       "      <td>-33.669056</td>\n",
       "      <td>-20.050412</td>\n",
       "      <td>jamestown</td>\n",
       "      <td>sh</td>\n",
       "    </tr>\n",
       "    <tr>\n",
       "      <th>3</th>\n",
       "      <td>26.439971</td>\n",
       "      <td>-5.460941</td>\n",
       "      <td>taoudenni</td>\n",
       "      <td>ml</td>\n",
       "    </tr>\n",
       "    <tr>\n",
       "      <th>4</th>\n",
       "      <td>-55.870308</td>\n",
       "      <td>-4.823794</td>\n",
       "      <td>cape town</td>\n",
       "      <td>za</td>\n",
       "    </tr>\n",
       "  </tbody>\n",
       "</table>\n",
       "</div>"
      ],
      "text/plain": [
       "    latitude   longitude       city country\n",
       "0  22.025584  -84.598760     mantua      cu\n",
       "1  77.675606  111.078651  saskylakh      ru\n",
       "2 -33.669056  -20.050412  jamestown      sh\n",
       "3  26.439971   -5.460941  taoudenni      ml\n",
       "4 -55.870308   -4.823794  cape town      za"
      ]
     },
     "execution_count": 5,
     "metadata": {},
     "output_type": "execute_result"
    }
   ],
   "source": [
    "# Set of nearby cities\n",
    "city_names = []\n",
    "country = []\n",
    "\n",
    "for city in cities:\n",
    "    city_names.append(city.city_name) # loop through the city coordinates to get the city names\n",
    "    country.append(city.country_code) # loop through the city coordinates to get the country codes\n",
    "    \n",
    "city_dict ={\n",
    "    \"latitude\": latitudes,\n",
    "    \"longitude\": longitudes,\n",
    "    \"city\": city_names,\n",
    "    \"country\": country\n",
    "           }    \n",
    "\n",
    "city_df = pd.DataFrame(city_dict)\n",
    "city_df = city_df.drop_duplicates([\"city\",\"country\"]) # drop city-country duplicates\n",
    "city_df = city_df.dropna() # drop rows with missing values\n",
    "city_df.head()"
   ]
  },
  {
   "cell_type": "markdown",
   "metadata": {},
   "source": [
    "Before determining weather conditions for the randomly selected cities, it is important to make sure that these are included in the cities in the [OpenWeatherMap](https://openweathermap.org/) databases and have city IDs. A [JSON file](http://bulk.openweathermap.org/sample/) containing city names is cross-referenced to collect city IDs for the randomly selected cities."
   ]
  },
  {
   "cell_type": "code",
   "execution_count": 6,
   "metadata": {},
   "outputs": [],
   "source": [
    "# Get JSON file containing city ID (downloaded)\n",
    "filepath = os.path.join(\"Resources\",\"city.list.json\")\n",
    "with open(filepath) as json_file:\n",
    "    json_data = json.load(json_file)"
   ]
  },
  {
   "cell_type": "code",
   "execution_count": 7,
   "metadata": {},
   "outputs": [],
   "source": [
    "# Get the city name, country code, and city ID \n",
    "# City IDs are recommended by the OpenWeatherMap API because they are unique identifiers. \n",
    "# There could be cities in the list with the same name but are located in different countries.\n",
    "\n",
    "ct_name = []\n",
    "co_name = []\n",
    "ct_ID = []\n",
    "\n",
    "for i in json_data:\n",
    "    ct_name.append(i[\"name\"]) # city name from JSON file\n",
    "    co_name.append(i[\"country\"]) # country name from JSON file\n",
    "    ct_ID.append(i[\"id\"]) # city ID from JSON file"
   ]
  },
  {
   "cell_type": "code",
   "execution_count": 8,
   "metadata": {},
   "outputs": [
    {
     "data": {
      "text/html": [
       "<div>\n",
       "<style scoped>\n",
       "    .dataframe tbody tr th:only-of-type {\n",
       "        vertical-align: middle;\n",
       "    }\n",
       "\n",
       "    .dataframe tbody tr th {\n",
       "        vertical-align: top;\n",
       "    }\n",
       "\n",
       "    .dataframe thead th {\n",
       "        text-align: right;\n",
       "    }\n",
       "</style>\n",
       "<table border=\"1\" class=\"dataframe\">\n",
       "  <thead>\n",
       "    <tr style=\"text-align: right;\">\n",
       "      <th></th>\n",
       "      <th>city</th>\n",
       "      <th>country</th>\n",
       "      <th>city ID</th>\n",
       "    </tr>\n",
       "  </thead>\n",
       "  <tbody>\n",
       "    <tr>\n",
       "      <th>0</th>\n",
       "      <td>hurzuf</td>\n",
       "      <td>ua</td>\n",
       "      <td>707860</td>\n",
       "    </tr>\n",
       "    <tr>\n",
       "      <th>1</th>\n",
       "      <td>novinki</td>\n",
       "      <td>ru</td>\n",
       "      <td>519188</td>\n",
       "    </tr>\n",
       "    <tr>\n",
       "      <th>2</th>\n",
       "      <td>gorkhā</td>\n",
       "      <td>np</td>\n",
       "      <td>1283378</td>\n",
       "    </tr>\n",
       "    <tr>\n",
       "      <th>3</th>\n",
       "      <td>state of haryāna</td>\n",
       "      <td>in</td>\n",
       "      <td>1270260</td>\n",
       "    </tr>\n",
       "    <tr>\n",
       "      <th>4</th>\n",
       "      <td>holubynka</td>\n",
       "      <td>ua</td>\n",
       "      <td>708546</td>\n",
       "    </tr>\n",
       "  </tbody>\n",
       "</table>\n",
       "</div>"
      ],
      "text/plain": [
       "               city country  city ID\n",
       "0            hurzuf      ua   707860\n",
       "1           novinki      ru   519188\n",
       "2            gorkhā      np  1283378\n",
       "3  state of haryāna      in  1270260\n",
       "4         holubynka      ua   708546"
      ]
     },
     "execution_count": 8,
     "metadata": {},
     "output_type": "execute_result"
    }
   ],
   "source": [
    "# Put the JSON-sourced data into a dataframe\n",
    "json_dict = {\n",
    "    \"city\": ct_name,\n",
    "    \"country\": co_name,\n",
    "    \"city ID\": ct_ID}\n",
    "\n",
    "json_df = pd.DataFrame(json_dict)\n",
    "json_df[\"city\"] = json_df[\"city\"].str.lower() # make the letters lowercase\n",
    "json_df[\"country\"] = json_df[\"country\"].str.lower() # make the letters lowercase\n",
    "json_df.head()"
   ]
  },
  {
   "cell_type": "code",
   "execution_count": 9,
   "metadata": {},
   "outputs": [
    {
     "name": "stdout",
     "output_type": "stream",
     "text": [
      "There are 668 cities in this dataframe.\n"
     ]
    },
    {
     "data": {
      "text/html": [
       "<div>\n",
       "<style scoped>\n",
       "    .dataframe tbody tr th:only-of-type {\n",
       "        vertical-align: middle;\n",
       "    }\n",
       "\n",
       "    .dataframe tbody tr th {\n",
       "        vertical-align: top;\n",
       "    }\n",
       "\n",
       "    .dataframe thead th {\n",
       "        text-align: right;\n",
       "    }\n",
       "</style>\n",
       "<table border=\"1\" class=\"dataframe\">\n",
       "  <thead>\n",
       "    <tr style=\"text-align: right;\">\n",
       "      <th></th>\n",
       "      <th>latitude</th>\n",
       "      <th>longitude</th>\n",
       "      <th>city</th>\n",
       "      <th>country</th>\n",
       "      <th>city ID</th>\n",
       "    </tr>\n",
       "  </thead>\n",
       "  <tbody>\n",
       "    <tr>\n",
       "      <th>0</th>\n",
       "      <td>22.025584</td>\n",
       "      <td>-84.598760</td>\n",
       "      <td>mantua</td>\n",
       "      <td>cu</td>\n",
       "      <td>3547930</td>\n",
       "    </tr>\n",
       "    <tr>\n",
       "      <th>1</th>\n",
       "      <td>77.675606</td>\n",
       "      <td>111.078651</td>\n",
       "      <td>saskylakh</td>\n",
       "      <td>ru</td>\n",
       "      <td>2017155</td>\n",
       "    </tr>\n",
       "    <tr>\n",
       "      <th>2</th>\n",
       "      <td>-33.669056</td>\n",
       "      <td>-20.050412</td>\n",
       "      <td>jamestown</td>\n",
       "      <td>sh</td>\n",
       "      <td>3370903</td>\n",
       "    </tr>\n",
       "    <tr>\n",
       "      <th>3</th>\n",
       "      <td>26.439971</td>\n",
       "      <td>-5.460941</td>\n",
       "      <td>taoudenni</td>\n",
       "      <td>ml</td>\n",
       "      <td>2450173</td>\n",
       "    </tr>\n",
       "    <tr>\n",
       "      <th>4</th>\n",
       "      <td>-55.870308</td>\n",
       "      <td>-4.823794</td>\n",
       "      <td>cape town</td>\n",
       "      <td>za</td>\n",
       "      <td>3369157</td>\n",
       "    </tr>\n",
       "  </tbody>\n",
       "</table>\n",
       "</div>"
      ],
      "text/plain": [
       "    latitude   longitude       city country  city ID\n",
       "0  22.025584  -84.598760     mantua      cu  3547930\n",
       "1  77.675606  111.078651  saskylakh      ru  2017155\n",
       "2 -33.669056  -20.050412  jamestown      sh  3370903\n",
       "3  26.439971   -5.460941  taoudenni      ml  2450173\n",
       "4 -55.870308   -4.823794  cape town      za  3369157"
      ]
     },
     "execution_count": 9,
     "metadata": {},
     "output_type": "execute_result"
    }
   ],
   "source": [
    "# Merge json_df and city_df\n",
    "city_df2 = pd.merge(city_df,json_df)\n",
    "city_df2 = city_df2.drop_duplicates([\"city\", \"country\"])\n",
    "print(f\"There are {len(city_df2)} cities in this dataframe.\")\n",
    "city_df2.head()"
   ]
  },
  {
   "cell_type": "code",
   "execution_count": 10,
   "metadata": {},
   "outputs": [],
   "source": [
    "# save the dataframe as a (dated) csv file \n",
    "city_df2.to_csv('nearest_cities_{}.csv'.format(today), index = False, encoding = 'utf-8')"
   ]
  },
  {
   "cell_type": "markdown",
   "metadata": {},
   "source": [
    "### Finding the geo-locations of the cities in the dataframe\n",
    "With the nearby cities selected, the randomly generated coordinates are no longer needed and the columns can be dropped from the dataframe (to avoid mistaking the coordinates as those of the cities). \n",
    "\n",
    "Latitude and longitude information for the cities are generated through the [Google Maps API](https://developers.google.com/maps/documentation/javascript/tutorial)."
   ]
  },
  {
   "cell_type": "code",
   "execution_count": 11,
   "metadata": {},
   "outputs": [
    {
     "data": {
      "text/html": [
       "<div>\n",
       "<style scoped>\n",
       "    .dataframe tbody tr th:only-of-type {\n",
       "        vertical-align: middle;\n",
       "    }\n",
       "\n",
       "    .dataframe tbody tr th {\n",
       "        vertical-align: top;\n",
       "    }\n",
       "\n",
       "    .dataframe thead th {\n",
       "        text-align: right;\n",
       "    }\n",
       "</style>\n",
       "<table border=\"1\" class=\"dataframe\">\n",
       "  <thead>\n",
       "    <tr style=\"text-align: right;\">\n",
       "      <th></th>\n",
       "      <th>city</th>\n",
       "      <th>country</th>\n",
       "      <th>city ID</th>\n",
       "      <th>city_latitude</th>\n",
       "      <th>city_longitude</th>\n",
       "    </tr>\n",
       "  </thead>\n",
       "  <tbody>\n",
       "    <tr>\n",
       "      <th>0</th>\n",
       "      <td>mantua</td>\n",
       "      <td>cu</td>\n",
       "      <td>3547930</td>\n",
       "      <td></td>\n",
       "      <td></td>\n",
       "    </tr>\n",
       "    <tr>\n",
       "      <th>1</th>\n",
       "      <td>saskylakh</td>\n",
       "      <td>ru</td>\n",
       "      <td>2017155</td>\n",
       "      <td></td>\n",
       "      <td></td>\n",
       "    </tr>\n",
       "    <tr>\n",
       "      <th>2</th>\n",
       "      <td>jamestown</td>\n",
       "      <td>sh</td>\n",
       "      <td>3370903</td>\n",
       "      <td></td>\n",
       "      <td></td>\n",
       "    </tr>\n",
       "    <tr>\n",
       "      <th>3</th>\n",
       "      <td>taoudenni</td>\n",
       "      <td>ml</td>\n",
       "      <td>2450173</td>\n",
       "      <td></td>\n",
       "      <td></td>\n",
       "    </tr>\n",
       "    <tr>\n",
       "      <th>4</th>\n",
       "      <td>cape town</td>\n",
       "      <td>za</td>\n",
       "      <td>3369157</td>\n",
       "      <td></td>\n",
       "      <td></td>\n",
       "    </tr>\n",
       "  </tbody>\n",
       "</table>\n",
       "</div>"
      ],
      "text/plain": [
       "        city country  city ID city_latitude city_longitude\n",
       "0     mantua      cu  3547930                             \n",
       "1  saskylakh      ru  2017155                             \n",
       "2  jamestown      sh  3370903                             \n",
       "3  taoudenni      ml  2450173                             \n",
       "4  cape town      za  3369157                             "
      ]
     },
     "execution_count": 11,
     "metadata": {},
     "output_type": "execute_result"
    }
   ],
   "source": [
    "# drop latitude and longitude\n",
    "city_df2 = city_df2.drop([\"latitude\", \"longitude\"], axis = 1)\n",
    "\n",
    "# Fill in the coordinates for each city\n",
    "city_df2[\"city_latitude\"] = \"\" # make the latitude blank to get city latitude via Google Maps API\n",
    "city_df2[\"city_longitude\"] = \"\" # make the longitude blank to get city longitude via Good Maps API\n",
    "city_df2.head()"
   ]
  },
  {
   "cell_type": "markdown",
   "metadata": {},
   "source": [
    "The progress of retrieving information from the Google Maps API and of recording the information in the dataframe is indicated by messages. In case there are errors encountered for a particular city, an error message is printed and the information retrieval and recording is continued with the next city."
   ]
  },
  {
   "cell_type": "code",
   "execution_count": null,
   "metadata": {},
   "outputs": [],
   "source": [
    "# Create a parameters dictionary to contain the variables that will be updated through the search\n",
    "params = {\"key\": gkey}\n",
    "\n",
    "# Create the iterations through the list of cities \n",
    "for index, row in city_df2.iterrows():\n",
    "    city = row[\"city\"]\n",
    "    country = row[\"country\"]\n",
    "    \n",
    "    # base url\n",
    "    base_url = \"https://maps.googleapis.com/maps/api/geocode/json\"\n",
    "    \n",
    "    # add location in params based on the cities in the dataframe\n",
    "    params[\"address\"] = f'{city},{country}'\n",
    "    \n",
    "    # create request and JSON-ify\n",
    "    print(f\"Retrieving the location of City {index}: {city},{country}\")\n",
    "    cities_coords_json = requests.get(base_url, params = params).json()\n",
    "    \n",
    "    # add the latitude and longitude of each city into the list\n",
    "    try:\n",
    "        print(f\"{city} is on the map! Recording coordinates now.\")\n",
    "        city_df2.loc[index, \"city_latitude\"] = cities_coords_json[\"results\"][0][\"geometry\"][\"location\"][\"lat\"]\n",
    "        city_df2.loc[index, \"city_longitude\"] = cities_coords_json[\"results\"][0][\"geometry\"][\"location\"][\"lng\"]\n",
    "    except (KeyError, IndexError):\n",
    "        print(f\"{city} has not yet been discovered. Moving on...\")\n",
    "    \n",
    "    print(\"----------\")    "
   ]
  },
  {
   "cell_type": "code",
   "execution_count": null,
   "metadata": {},
   "outputs": [],
   "source": [
    "# drop cities that return blanks\n",
    "city_df2 = city_df2.dropna()\n",
    "\n",
    "# save the dataframe as a (dated) csv file \n",
    "city_df2.to_csv('city_list_{}.csv'.format(today), index = False, encoding = 'utf-8')"
   ]
  },
  {
   "cell_type": "markdown",
   "metadata": {},
   "source": [
    "### Current weather conditions in nearby cities\n",
    "Blank columns for the four weather metrics are added to the dataframe."
   ]
  },
  {
   "cell_type": "code",
   "execution_count": null,
   "metadata": {
    "scrolled": true
   },
   "outputs": [],
   "source": [
    "# Add new columns\n",
    "city_df2[\"Temperature (F)\"] = \"\"\n",
    "city_df2[\"Humidity (%)\"] = \"\"\n",
    "city_df2[\"Cloudiness (%)\"] = \"\"\n",
    "city_df2[\"Wind Speed (mph)\"] = \"\""
   ]
  },
  {
   "cell_type": "markdown",
   "metadata": {},
   "source": [
    "The OpenWeatherMap API is used to collect current weather metrics for the cities. The progress of the run is indicated. While weather data is being extracted, the cloudiness of each city is printed. In case an error is encountered while retrieving data for a city, an error message (\"It will rain meatballs!\") is printed and the process is continued for the next city in the queue."
   ]
  },
  {
   "cell_type": "code",
   "execution_count": null,
   "metadata": {
    "scrolled": true
   },
   "outputs": [],
   "source": [
    "# Formulate the query URL\n",
    "url = \"http://api.openweathermap.org/data/2.5/weather?\"\n",
    "units = \"imperial\"\n",
    "\n",
    "# Loop through the rows to get the different cities and countries\n",
    "for index, row in city_df2.iterrows():\n",
    "    x = row[\"city\"]\n",
    "    y = row[\"country\"]\n",
    "    \n",
    "    # Create a variable for iteration through the dataframe\n",
    "    city_ID = row[\"city ID\"]\n",
    "    \n",
    "    # Create a query URL\n",
    "    query_url = f\"{url}&appid={api_key}&id={city_ID}&units={units}\"\n",
    "    \n",
    "    # Create a request and JSON-ify\n",
    "    print(f\"Retrieving information for City {index}: {x},{y} (ID: {city_ID}).\")\n",
    "    response = requests.get(query_url)\n",
    "    response_json = response.json()\n",
    "    \n",
    "    # Extract response\n",
    "    try:\n",
    "        print(f\"{x},{y} (ID: {city_ID}) has {response_json['clouds']['all']}% cloudiness.\")\n",
    "        \n",
    "        city_df2.loc[index, \"Cloudiness (%)\"] = response_json[\"clouds\"][\"all\"]\n",
    "        city_df2.loc[index, \"Humidity (%)\"] = response_json[\"main\"][\"humidity\"]\n",
    "        city_df2.loc[index, \"Wind Speed (mph)\"] = response_json[\"wind\"][\"speed\"]\n",
    "        city_df2.loc[index, \"Temperature (F)\"] = response_json[\"main\"][\"temp\"]\n",
    "    \n",
    "    except (KeyError, IndexError):\n",
    "        print(\"The city is not on the list. It will rain meatballs!\")\n",
    "    \n",
    "    print(\"----------\")"
   ]
  },
  {
   "cell_type": "markdown",
   "metadata": {},
   "source": [
    "If there are no errors during the run (the forecast does not have meatballs), the dataframe should now contain the weather information for each city. The dataframe is also saved as a (dated) csv file."
   ]
  },
  {
   "cell_type": "code",
   "execution_count": null,
   "metadata": {},
   "outputs": [],
   "source": [
    "# view complete dataframe\n",
    "city_df2\n",
    "\n",
    "# save the dataframe as a csv file \n",
    "city_df2.to_csv('weather_output_{}.csv'.format(today), index = False, encoding = 'utf-8')\n",
    "\n",
    "# Preview the dataframe\n",
    "city_df2.head()"
   ]
  },
  {
   "cell_type": "markdown",
   "metadata": {},
   "source": [
    "### Visualising weather trends\n",
    "The patterns for current weather conditions can be visualised via scatterplots. These plots follow the [ggplot](http://ggplot.yhathq.com/) aesthetic."
   ]
  },
  {
   "cell_type": "code",
   "execution_count": null,
   "metadata": {},
   "outputs": [],
   "source": [
    "# Choose ggplot as style for plots\n",
    "plt.style.use('ggplot')\n",
    "\n",
    "# Size of plots\n",
    "fig_size = plt.rcParams[\"figure.figsize\"] # get current size\n",
    "fig_size[0] = 12\n",
    "fig_size[1] = 8\n",
    "plt.rcParams[\"figure.figsize\"] = fig_size # customise plot size"
   ]
  },
  {
   "cell_type": "markdown",
   "metadata": {},
   "source": [
    "Four plots explore trends between latitude and weather metrics."
   ]
  },
  {
   "cell_type": "code",
   "execution_count": null,
   "metadata": {},
   "outputs": [],
   "source": [
    "# Latitude vs Temperature\n",
    "plt.scatter(city_df2[\"latitude\"], city_df2[\"Temperature (F)\"])\n",
    "plt.xlabel(\"Latitude\")\n",
    "plt.ylabel(\"Temperature (deg F)\")\n",
    "plt.title(f\"Temperature (deg F) by Latitude for {len(city_df2)} Cities.\\n(Data retrieved via the OpenWeatherData API on {today}.)\")\n",
    "\n",
    "# Save image\n",
    "plt.savefig(\"Images/lat_temp_{}.png\".format(today))\n",
    "plt.show()"
   ]
  },
  {
   "cell_type": "code",
   "execution_count": null,
   "metadata": {},
   "outputs": [],
   "source": [
    "# Latitude vs Humidity\n",
    "plt.scatter(city_df2[\"latitude\"], city_df2[\"Humidity (%)\"])\n",
    "plt.xlabel(\"Latitude\")\n",
    "plt.ylabel(\"Humidity (%)\")\n",
    "plt.title(f\"Humidity (%) by Latitude for {len(city_df2)} Cities.\\n(Data retrieved via the OpenWeatherData API on {today}.)\")\n",
    "\n",
    "# Save image\n",
    "plt.savefig(\"Images/lat_hum_{}.png\".format(today))\n",
    "plt.show()"
   ]
  },
  {
   "cell_type": "code",
   "execution_count": null,
   "metadata": {},
   "outputs": [],
   "source": [
    "# Latitude vs Cloudiness\n",
    "plt.scatter(city_df2[\"latitude\"], city_df2[\"Cloudiness (%)\"])\n",
    "plt.xlabel(\"Latitude\")\n",
    "plt.ylabel(\"Cloudiness (%)\")\n",
    "plt.title(f\"Cloudiness (%) by Latitude for {len(city_df2)} Cities.\\n(Data retrieved via the OpenWeatherData API on {today}.)\")\n",
    "\n",
    "# Save image\n",
    "plt.savefig(\"Images/lat_cloud_{}.png\".format(today))\n",
    "plt.show()"
   ]
  },
  {
   "cell_type": "code",
   "execution_count": null,
   "metadata": {},
   "outputs": [],
   "source": [
    "# Latitude vs Wind Speed\n",
    "plt.scatter(city_df2[\"latitude\"], city_df2[\"Wind Speed (mph)\"])\n",
    "plt.xlabel(\"Latitude\")\n",
    "plt.ylabel(\"Wind Speed (mph)\")\n",
    "plt.title(f\"Wind Speed (mph) by Latitude for {len(city_df2)} Cities.\\n(Data retrieved via the OpenWeatherData API on {today}.)\")\n",
    "\n",
    "# Save image\n",
    "plt.savefig(\"Images/lat_wind_{}.png\".format(today))\n",
    "plt.show()"
   ]
  },
  {
   "cell_type": "code",
   "execution_count": null,
   "metadata": {},
   "outputs": [],
   "source": [
    "# Longitude vs Temperature\n",
    "plt.scatter(city_df2[\"longitude\"], city_df2[\"Temperature (F)\"])\n",
    "plt.xlabel(\"Longitude\")\n",
    "plt.ylabel(\"Temperature (deg F)\")\n",
    "plt.title(f\"Temperature (deg F) by Longitude for {len(city_df2)} Cities.\\n(Data retrieved via the OpenWeatherData API on {today}.)\")\n",
    "\n",
    "# Save image\n",
    "plt.savefig(\"Images/long_temp_{}.png\".format(today))\n",
    "plt.show()"
   ]
  },
  {
   "cell_type": "code",
   "execution_count": null,
   "metadata": {},
   "outputs": [],
   "source": [
    "# Longitude vs Humidity\n",
    "plt.scatter(city_df2[\"longitude\"], city_df2[\"Humidity (%)\"])\n",
    "plt.xlabel(\"Longitude\")\n",
    "plt.ylabel(\"Humidity (%)\")\n",
    "plt.title(f\"Humidity (%) by Longitude for {len(city_df2)} Cities.\\n(Data retrieved via the OpenWeatherData API on {today}.)\")\n",
    "\n",
    "# Save image\n",
    "plt.savefig(\"Images/long_hum_{}.png\".format(today))\n",
    "plt.show()"
   ]
  },
  {
   "cell_type": "code",
   "execution_count": null,
   "metadata": {},
   "outputs": [],
   "source": [
    "# Longitude vs Cloudiness\n",
    "plt.scatter(city_df2[\"longitude\"], city_df2[\"Cloudiness (%)\"])\n",
    "plt.xlabel(\"Longitude\")\n",
    "plt.ylabel(\"Cloudiness (%)\")\n",
    "plt.title(f\"Cloudiness (%) by Longitude for {len(city_df2)} Cities.\\n(Data retrieved via the OpenWeatherData API on {today}.)\")\n",
    "\n",
    "# Save image\n",
    "plt.savefig(\"Images/long_cloud_{}.png\".format(today))\n",
    "plt.show()"
   ]
  },
  {
   "cell_type": "code",
   "execution_count": null,
   "metadata": {
    "scrolled": true
   },
   "outputs": [],
   "source": [
    "# Longitude vs Wind Speed\n",
    "plt.scatter(city_df2[\"longitude\"], city_df2[\"Wind Speed (mph)\"])\n",
    "plt.xlabel(\"Longitude\")\n",
    "plt.ylabel(\"Wind Speed (mph)\")\n",
    "plt.title(f\"Wind Speed (mph) by Longitude for {len(city_df2)} Cities.\\n(Data retrieved via the OpenWeatherData API on {today}.)\")\n",
    "\n",
    "# Save image\n",
    "plt.savefig(\"Images/long_wind_{}.png\".format(today))\n",
    "plt.show()"
   ]
  },
  {
   "cell_type": "code",
   "execution_count": null,
   "metadata": {},
   "outputs": [],
   "source": [
    "# Humidity vs Wind Speed\n",
    "plt.scatter(city_df2[\"Humidity (%)\"], city_df2[\"Wind Speed (mph)\"])\n",
    "plt.xlabel(\"Humidity (%)\")\n",
    "plt.ylabel(\"Wind Speed (mph)\")\n",
    "plt.title(f\"Wind Speed (mph) by Humidity (%) for {len(city_df2)} Cities.\\n(Data retrieved via the OpenWeatherData API on {today})\")\n",
    "\n",
    "# Save image\n",
    "plt.savefig(\"Images/hum_wind_{}.png\".format(today))\n",
    "plt.show()"
   ]
  },
  {
   "cell_type": "code",
   "execution_count": null,
   "metadata": {
    "scrolled": true
   },
   "outputs": [],
   "source": [
    "# Humidity vs Cloudiness\n",
    "plt.scatter(city_df2[\"Humidity (%)\"], city_df2[\"Cloudiness (%)\"])\n",
    "plt.xlabel(\"Humidity (%)\")\n",
    "plt.ylabel(\"Cloudiness (%)\")\n",
    "plt.title(f\"Cloudiness (%) by Humidity (%) for {len(city_df2)} Cities.\\n(Data retrieved via the OpenWeatherData API on {today}.)\")\n",
    "\n",
    "# Save image\n",
    "plt.savefig(\"Images/hum_cloud_{}.png\".format(today))\n",
    "plt.show()"
   ]
  },
  {
   "cell_type": "code",
   "execution_count": null,
   "metadata": {},
   "outputs": [],
   "source": [
    "# Humidity vs Wind Speed\n",
    "plt.scatter(city_df2[\"Cloudiness (%)\"], city_df2[\"Wind Speed (mph)\"])\n",
    "plt.xlabel(\"Cloudiness (%)\")\n",
    "plt.ylabel(\"Wind Speed (mph)\")\n",
    "plt.title(f\"Wind Speed (mph) by Cloudiness (%) for {len(city_df2)} Cities.\\n(Data retrieved via the OpenWeatherData API on {today}.)\")\n",
    "\n",
    "# Save image\n",
    "plt.savefig(\"Images/cloud_wind_{}.png\".format(today))\n",
    "plt.show()"
   ]
  }
 ],
 "metadata": {
  "kernelspec": {
   "display_name": "Python 3",
   "language": "python",
   "name": "python3"
  },
  "language_info": {
   "codemirror_mode": {
    "name": "ipython",
    "version": 3
   },
   "file_extension": ".py",
   "mimetype": "text/x-python",
   "name": "python",
   "nbconvert_exporter": "python",
   "pygments_lexer": "ipython3",
   "version": "3.6.5"
  }
 },
 "nbformat": 4,
 "nbformat_minor": 2
}
