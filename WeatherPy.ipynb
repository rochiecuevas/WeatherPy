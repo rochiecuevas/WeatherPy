{
 "cells": [
  {
   "cell_type": "code",
   "execution_count": 24,
   "metadata": {},
   "outputs": [],
   "source": [
    "# Dependencies\n",
    "from config import api_key\n",
    "from citipy import citipy\n",
    "import matplotlib.pyplot as plt\n",
    "import numpy as np\n",
    "import pandas as pd\n",
    "import json\n",
    "import requests"
   ]
  },
  {
   "cell_type": "markdown",
   "metadata": {},
   "source": [
    "## Create a list of cities"
   ]
  },
  {
   "cell_type": "code",
   "execution_count": 2,
   "metadata": {
    "scrolled": false
   },
   "outputs": [],
   "source": [
    "# Create a random list of latitudes and longitudes\n",
    "# np.random.uniform makes sure that all the numbers in the range get equal chance of getting picked\n",
    "\n",
    "latitudes = np.random.uniform(-90, 90, size = 2000) # 500 random numbers from -90 to 90 deg latitude\n",
    "longitudes = np.random.uniform(-180, 180, size = 2000) # 500 random numbers from -180 to 180 deg longitude\n",
    "\n",
    "coordinates = list(zip(latitudes, longitudes))"
   ]
  },
  {
   "cell_type": "code",
   "execution_count": 10,
   "metadata": {},
   "outputs": [],
   "source": [
    "# Nearby cities per latitude-longitude pair\n",
    "cities = []\n",
    "\n",
    "for coord in coordinates:\n",
    "    lat, lon = coord\n",
    "    cities.append(citipy.nearest_city(lat, lon))"
   ]
  },
  {
   "cell_type": "code",
   "execution_count": 23,
   "metadata": {},
   "outputs": [
    {
     "data": {
      "text/plain": [
       "756"
      ]
     },
     "execution_count": 23,
     "metadata": {},
     "output_type": "execute_result"
    }
   ],
   "source": [
    "# Set of cities\n",
    "city_names = []\n",
    "\n",
    "for city in cities:\n",
    "    city_names.append(city.city_name) # loop through the city coordinates to get the city names\n",
    "    \n",
    "city_names = list(set(city_names)) # get the unique elements in the list of city names\n",
    "len(city_names) # make sure that there are at least 500 cities in the list"
   ]
  },
  {
   "cell_type": "markdown",
   "metadata": {},
   "source": [
    "## Get the weather for each city through the OpenWeatherData API"
   ]
  },
  {
   "cell_type": "code",
   "execution_count": null,
   "metadata": {},
   "outputs": [],
   "source": []
  }
 ],
 "metadata": {
  "kernelspec": {
   "display_name": "Python 3",
   "language": "python",
   "name": "python3"
  },
  "language_info": {
   "codemirror_mode": {
    "name": "ipython",
    "version": 3
   },
   "file_extension": ".py",
   "mimetype": "text/x-python",
   "name": "python",
   "nbconvert_exporter": "python",
   "pygments_lexer": "ipython3",
   "version": "3.6.5"
  }
 },
 "nbformat": 4,
 "nbformat_minor": 2
}
